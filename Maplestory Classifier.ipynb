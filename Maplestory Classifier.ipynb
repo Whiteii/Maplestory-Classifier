{
 "cells": [
  {
   "cell_type": "code",
   "execution_count": 150,
   "id": "712917f8",
   "metadata": {},
   "outputs": [],
   "source": [
    "import cv2 \n",
    "import numpy as np \n",
    "import os\n",
    "import pandas as pd\n"
   ]
  },
  {
   "cell_type": "code",
   "execution_count": 151,
   "id": "e8b60e4f",
   "metadata": {},
   "outputs": [],
   "source": [
    "folder_path = \"C:/Users/liang/OneDrive/Desktop/Maplestory-Classifier/Mushmom_Classification\""
   ]
  },
  {
   "cell_type": "code",
   "execution_count": 152,
   "id": "c0e1b623",
   "metadata": {},
   "outputs": [],
   "source": [
    "files = os.listdir(folder_path)"
   ]
  },
  {
   "cell_type": "code",
   "execution_count": 153,
   "id": "4579f2d6",
   "metadata": {},
   "outputs": [],
   "source": [
    "images = [file for file in files if file.endswith('.JPG') or file.endswith('.png')]"
   ]
  },
  {
   "cell_type": "code",
   "execution_count": 154,
   "id": "44db2450",
   "metadata": {},
   "outputs": [],
   "source": [
    "def image_to_array(folder_path):\n",
    "    files = os.listdir(folder_path)\n",
    "    images = [file for file in files if file.endswith('.JPG') or file.endswith('.png')]\n",
    "    image_list = [] \n",
    "    for image in images:\n",
    "        img = cv2.imread(os.path.join(folder_path, image))\n",
    "        image_list.append(img)\n",
    "    return image_list"
   ]
  },
  {
   "cell_type": "code",
   "execution_count": 155,
   "id": "f2ef0803",
   "metadata": {},
   "outputs": [],
   "source": [
    "#Mushmom image\n",
    "mushmom_path = \"C:/Users/liang/OneDrive/Desktop/Maplestory-Classifier/Mushmom_Classification\"\n",
    "mushmom_images = image_to_array(mushmom_path)"
   ]
  },
  {
   "cell_type": "code",
   "execution_count": 156,
   "id": "10aa3382",
   "metadata": {},
   "outputs": [],
   "source": [
    "#Horny_Mushroom \n",
    "horny_mushroom_path = \"C:/Users/liang/OneDrive/Desktop/Maplestory-Classifier/Horny_Mushroom_Classification\"\n",
    "horny_mushroom_images = image_to_array(horny_mushroom_path)"
   ]
  },
  {
   "cell_type": "code",
   "execution_count": 157,
   "id": "ad3a93d9",
   "metadata": {},
   "outputs": [],
   "source": [
    "#Poisonous_mushroom\n",
    "poisonous_mushroom_path = \"C:/Users/liang/OneDrive/Desktop/Maplestory-Classifier/Poisonous_Mushroom_Classification\"\n",
    "poisonous_mushroom_images = image_to_array(poisonous_mushroom_path)"
   ]
  },
  {
   "cell_type": "code",
   "execution_count": 158,
   "id": "c56d6d6e",
   "metadata": {},
   "outputs": [],
   "source": [
    "#Zombie_mushmom\n",
    "zombie_mushmom_path = \"C:/Users/liang/OneDrive/Desktop/Maplestory-Classifier/Zombie_Mushmom_Classification\"\n",
    "zombie_mushmom_images = image_to_array(zombie_mushmom_path)"
   ]
  },
  {
   "cell_type": "code",
   "execution_count": 159,
   "id": "2011e24d",
   "metadata": {},
   "outputs": [],
   "source": [
    "#Blue_Mushmom\n",
    "blue_mushmom_path = \"C:/Users/liang/OneDrive/Desktop/Maplestory-Classifier/Blue_Mushmom_Classification\"\n",
    "blue_mushmom_images = image_to_array(blue_mushmom_path)"
   ]
  },
  {
   "cell_type": "code",
   "execution_count": 160,
   "id": "91439314",
   "metadata": {},
   "outputs": [],
   "source": [
    "#Green Mushroom\n",
    "green_mushmom_path = \"C:/Users/liang/OneDrive/Desktop/Maplestory-Classifier/Green_Mushroom_Classification\"\n",
    "green_mushmom_images = image_to_array(green_mushmom_path)"
   ]
  },
  {
   "cell_type": "code",
   "execution_count": 161,
   "id": "1127033b",
   "metadata": {
    "scrolled": true
   },
   "outputs": [],
   "source": [
    "mushmom_df = pd.DataFrame({'array_val' : mushmom_images , \"actual_labels\" : ['mushmom'] * len(mushmom_images) })"
   ]
  },
  {
   "cell_type": "code",
   "execution_count": 162,
   "id": "5aeb2437",
   "metadata": {},
   "outputs": [],
   "source": [
    "horny_mushroom_df = pd.DataFrame({'array_val' : horny_mushroom_images , \"actual_labels\" : ['horny_mushroom'] * len(horny_mushroom_images) })"
   ]
  },
  {
   "cell_type": "code",
   "execution_count": 163,
   "id": "1b1e2995",
   "metadata": {},
   "outputs": [],
   "source": [
    "poisonous_mushroom_df = pd.DataFrame({'array_val' : poisonous_mushroom_images , \"actual_labels\" : ['poisonous_mushroom'] * len(poisonous_mushroom_images) })"
   ]
  },
  {
   "cell_type": "code",
   "execution_count": 164,
   "id": "c02cb0c6",
   "metadata": {},
   "outputs": [],
   "source": [
    "zombie_mushmom_df = pd.DataFrame({'array_val' : zombie_mushmom_images, 'actual_labels' : ['zombie_mushmom'] * len(zombie_mushmom_images)})"
   ]
  },
  {
   "cell_type": "code",
   "execution_count": 165,
   "id": "6658bd45",
   "metadata": {},
   "outputs": [],
   "source": [
    "blue_mushmom_df = pd.DataFrame({'array_val' : blue_mushmom_images, 'actual_labels' : ['blue_mushmom'] * len(blue_mushmom_images)})"
   ]
  },
  {
   "cell_type": "code",
   "execution_count": 166,
   "id": "361164fe",
   "metadata": {},
   "outputs": [],
   "source": [
    "green_mushmom_df = pd.DataFrame({'array_val' : green_mushmom_images, 'actual_labels' : ['green_mushmom'] * len(green_mushmom_images)})"
   ]
  },
  {
   "cell_type": "code",
   "execution_count": 168,
   "id": "6e5dd23c",
   "metadata": {
    "scrolled": true
   },
   "outputs": [
    {
     "ename": "SyntaxError",
     "evalue": "invalid syntax (430016101.py, line 1)",
     "output_type": "error",
     "traceback": [
      "\u001b[1;36m  Cell \u001b[1;32mIn[168], line 1\u001b[1;36m\u001b[0m\n\u001b[1;33m    pd.concat([mushmom_df,,horny_mushroom_df,poisonous_mushroom_df,zombie_mushmom_df,blue_mushmom_df,green_mushmom_df],axis=0).reset_index(drop=True)\u001b[0m\n\u001b[1;37m                          ^\u001b[0m\n\u001b[1;31mSyntaxError\u001b[0m\u001b[1;31m:\u001b[0m invalid syntax\n"
     ]
    }
   ],
   "source": [
    "pd.concat([mushmom_df,horny_mushroom_df,poisonous_mushroom_df,zombie_mushmom_df,blue_mushmom_df,green_mushmom_df],axis=0).reset_index(drop=True)"
   ]
  },
  {
   "cell_type": "code",
   "execution_count": null,
   "id": "6aaad7fe",
   "metadata": {},
   "outputs": [],
   "source": []
  },
  {
   "cell_type": "code",
   "execution_count": null,
   "id": "4dce6ae0",
   "metadata": {},
   "outputs": [],
   "source": []
  },
  {
   "cell_type": "code",
   "execution_count": null,
   "id": "d7251d9c",
   "metadata": {},
   "outputs": [],
   "source": []
  },
  {
   "cell_type": "code",
   "execution_count": null,
   "id": "bd481cbc",
   "metadata": {},
   "outputs": [],
   "source": []
  },
  {
   "cell_type": "code",
   "execution_count": null,
   "id": "0c61cbc0",
   "metadata": {},
   "outputs": [],
   "source": []
  },
  {
   "cell_type": "code",
   "execution_count": null,
   "id": "556c8e20",
   "metadata": {},
   "outputs": [],
   "source": []
  },
  {
   "cell_type": "code",
   "execution_count": null,
   "id": "fc42e209",
   "metadata": {},
   "outputs": [],
   "source": []
  },
  {
   "cell_type": "code",
   "execution_count": null,
   "id": "15dd2d96",
   "metadata": {},
   "outputs": [],
   "source": []
  },
  {
   "cell_type": "code",
   "execution_count": null,
   "id": "5ce1b293",
   "metadata": {},
   "outputs": [],
   "source": []
  },
  {
   "cell_type": "code",
   "execution_count": 95,
   "id": "22f8ff66",
   "metadata": {},
   "outputs": [
    {
     "data": {
      "text/html": [
       "<div>\n",
       "<style scoped>\n",
       "    .dataframe tbody tr th:only-of-type {\n",
       "        vertical-align: middle;\n",
       "    }\n",
       "\n",
       "    .dataframe tbody tr th {\n",
       "        vertical-align: top;\n",
       "    }\n",
       "\n",
       "    .dataframe thead th {\n",
       "        text-align: right;\n",
       "    }\n",
       "</style>\n",
       "<table border=\"1\" class=\"dataframe\">\n",
       "  <thead>\n",
       "    <tr style=\"text-align: right;\">\n",
       "      <th></th>\n",
       "      <th>array_val</th>\n",
       "      <th>actual_labels</th>\n",
       "    </tr>\n",
       "  </thead>\n",
       "  <tbody>\n",
       "    <tr>\n",
       "      <th>0</th>\n",
       "      <td>[[[255, 255, 255], [255, 255, 255], [255, 255,...</td>\n",
       "      <td>horny_mushroom</td>\n",
       "    </tr>\n",
       "    <tr>\n",
       "      <th>1</th>\n",
       "      <td>[[[0, 0, 0], [0, 0, 0], [0, 0, 0], [0, 0, 0], ...</td>\n",
       "      <td>horny_mushroom</td>\n",
       "    </tr>\n",
       "    <tr>\n",
       "      <th>2</th>\n",
       "      <td>[[[248, 248, 248], [248, 248, 248], [248, 248,...</td>\n",
       "      <td>horny_mushroom</td>\n",
       "    </tr>\n",
       "    <tr>\n",
       "      <th>3</th>\n",
       "      <td>[[[255, 255, 255], [255, 255, 255], [255, 255,...</td>\n",
       "      <td>horny_mushroom</td>\n",
       "    </tr>\n",
       "    <tr>\n",
       "      <th>4</th>\n",
       "      <td>[[[45, 95, 107], [48, 98, 110], [50, 100, 112]...</td>\n",
       "      <td>horny_mushroom</td>\n",
       "    </tr>\n",
       "    <tr>\n",
       "      <th>5</th>\n",
       "      <td>[[[255, 255, 255], [255, 255, 255], [255, 255,...</td>\n",
       "      <td>horny_mushroom</td>\n",
       "    </tr>\n",
       "    <tr>\n",
       "      <th>6</th>\n",
       "      <td>[[[255, 255, 255], [255, 255, 255], [255, 255,...</td>\n",
       "      <td>horny_mushroom</td>\n",
       "    </tr>\n",
       "    <tr>\n",
       "      <th>7</th>\n",
       "      <td>[[[0, 0, 0], [0, 0, 0], [0, 0, 0], [0, 0, 0], ...</td>\n",
       "      <td>horny_mushroom</td>\n",
       "    </tr>\n",
       "    <tr>\n",
       "      <th>8</th>\n",
       "      <td>[[[213, 174, 122], [213, 174, 122], [213, 174,...</td>\n",
       "      <td>horny_mushroom</td>\n",
       "    </tr>\n",
       "    <tr>\n",
       "      <th>9</th>\n",
       "      <td>[[[255, 255, 255], [255, 255, 255], [255, 255,...</td>\n",
       "      <td>horny_mushroom</td>\n",
       "    </tr>\n",
       "  </tbody>\n",
       "</table>\n",
       "</div>"
      ],
      "text/plain": [
       "                                           array_val   actual_labels\n",
       "0  [[[255, 255, 255], [255, 255, 255], [255, 255,...  horny_mushroom\n",
       "1  [[[0, 0, 0], [0, 0, 0], [0, 0, 0], [0, 0, 0], ...  horny_mushroom\n",
       "2  [[[248, 248, 248], [248, 248, 248], [248, 248,...  horny_mushroom\n",
       "3  [[[255, 255, 255], [255, 255, 255], [255, 255,...  horny_mushroom\n",
       "4  [[[45, 95, 107], [48, 98, 110], [50, 100, 112]...  horny_mushroom\n",
       "5  [[[255, 255, 255], [255, 255, 255], [255, 255,...  horny_mushroom\n",
       "6  [[[255, 255, 255], [255, 255, 255], [255, 255,...  horny_mushroom\n",
       "7  [[[0, 0, 0], [0, 0, 0], [0, 0, 0], [0, 0, 0], ...  horny_mushroom\n",
       "8  [[[213, 174, 122], [213, 174, 122], [213, 174,...  horny_mushroom\n",
       "9  [[[255, 255, 255], [255, 255, 255], [255, 255,...  horny_mushroom"
      ]
     },
     "execution_count": 95,
     "metadata": {},
     "output_type": "execute_result"
    }
   ],
   "source": [
    "horny_mushroom_df"
   ]
  },
  {
   "cell_type": "code",
   "execution_count": 67,
   "id": "af3e654f",
   "metadata": {},
   "outputs": [],
   "source": [
    "img = data['array_val']"
   ]
  },
  {
   "cell_type": "code",
   "execution_count": null,
   "id": "71cf1f3c",
   "metadata": {},
   "outputs": [],
   "source": [
    "data"
   ]
  },
  {
   "cell_type": "code",
   "execution_count": null,
   "id": "9131604b",
   "metadata": {},
   "outputs": [],
   "source": [
    "from sklearn.model_selection import train_test_split\n",
    "X_train, X_test, y_train, y_test = train_test_split(X,y,test_size = 0.33, random_state = 42)"
   ]
  },
  {
   "cell_type": "code",
   "execution_count": 69,
   "id": "e8f0cb93",
   "metadata": {},
   "outputs": [],
   "source": [
    "import matplotlib.pyplot as plt \n",
    "plt.imshow(cv2.cvtColor(img[0], cv2.COLOR_BGR2RGB))\n",
    "plt.show()"
   ]
  },
  {
   "cell_type": "code",
   "execution_count": null,
   "id": "d7158696",
   "metadata": {},
   "outputs": [],
   "source": []
  },
  {
   "cell_type": "code",
   "execution_count": null,
   "id": "9f9f10cc",
   "metadata": {},
   "outputs": [],
   "source": []
  },
  {
   "cell_type": "code",
   "execution_count": null,
   "id": "bdf10160",
   "metadata": {},
   "outputs": [],
   "source": []
  },
  {
   "cell_type": "code",
   "execution_count": null,
   "id": "e28f6f1a",
   "metadata": {},
   "outputs": [],
   "source": []
  },
  {
   "cell_type": "code",
   "execution_count": null,
   "id": "536ca503",
   "metadata": {},
   "outputs": [],
   "source": []
  },
  {
   "cell_type": "code",
   "execution_count": null,
   "id": "12a83998",
   "metadata": {},
   "outputs": [],
   "source": []
  },
  {
   "cell_type": "code",
   "execution_count": null,
   "id": "20d25514",
   "metadata": {},
   "outputs": [],
   "source": []
  },
  {
   "cell_type": "code",
   "execution_count": null,
   "id": "a3fb2923",
   "metadata": {},
   "outputs": [],
   "source": []
  },
  {
   "cell_type": "code",
   "execution_count": null,
   "id": "bdc144ae",
   "metadata": {},
   "outputs": [],
   "source": []
  },
  {
   "cell_type": "code",
   "execution_count": null,
   "id": "0de545f5",
   "metadata": {},
   "outputs": [],
   "source": []
  },
  {
   "cell_type": "code",
   "execution_count": null,
   "id": "e61de4b4",
   "metadata": {},
   "outputs": [],
   "source": []
  },
  {
   "cell_type": "code",
   "execution_count": null,
   "id": "d7732e89",
   "metadata": {},
   "outputs": [],
   "source": []
  },
  {
   "cell_type": "code",
   "execution_count": null,
   "id": "59c24f3c",
   "metadata": {},
   "outputs": [],
   "source": []
  },
  {
   "cell_type": "code",
   "execution_count": null,
   "id": "42293cd9",
   "metadata": {},
   "outputs": [],
   "source": []
  },
  {
   "cell_type": "code",
   "execution_count": null,
   "id": "7328e415",
   "metadata": {},
   "outputs": [],
   "source": []
  },
  {
   "cell_type": "code",
   "execution_count": null,
   "id": "5d995746",
   "metadata": {},
   "outputs": [],
   "source": []
  },
  {
   "cell_type": "code",
   "execution_count": null,
   "id": "01f7dc9a",
   "metadata": {},
   "outputs": [],
   "source": []
  },
  {
   "cell_type": "code",
   "execution_count": null,
   "id": "6c9967da",
   "metadata": {},
   "outputs": [],
   "source": []
  },
  {
   "cell_type": "code",
   "execution_count": null,
   "id": "a1ea6946",
   "metadata": {},
   "outputs": [],
   "source": []
  }
 ],
 "metadata": {
  "kernelspec": {
   "display_name": "Python 3 (ipykernel)",
   "language": "python",
   "name": "python3"
  },
  "language_info": {
   "codemirror_mode": {
    "name": "ipython",
    "version": 3
   },
   "file_extension": ".py",
   "mimetype": "text/x-python",
   "name": "python",
   "nbconvert_exporter": "python",
   "pygments_lexer": "ipython3",
   "version": "3.10.9"
  }
 },
 "nbformat": 4,
 "nbformat_minor": 5
}
