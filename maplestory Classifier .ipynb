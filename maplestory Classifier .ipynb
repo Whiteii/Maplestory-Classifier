{
 "cells": [
  {
   "cell_type": "code",
   "execution_count": 99,
   "id": "712917f8",
   "metadata": {},
   "outputs": [],
   "source": [
    "import cv2 \n",
    "import numpy as np \n",
    "import os\n",
    "import pandas as pd\n"
   ]
  },
  {
   "cell_type": "code",
   "execution_count": 100,
   "id": "e8b60e4f",
   "metadata": {},
   "outputs": [],
   "source": [
    "folder_path = \"C:/Users/liang/OneDrive/Desktop/Maplestory-Classifier/Mushmom_Classification\""
   ]
  },
  {
   "cell_type": "code",
   "execution_count": 101,
   "id": "c0e1b623",
   "metadata": {},
   "outputs": [],
   "source": [
    "files = os.listdir(folder_path)"
   ]
  },
  {
   "cell_type": "code",
   "execution_count": 102,
   "id": "4579f2d6",
   "metadata": {},
   "outputs": [],
   "source": [
    "images = [file for file in files if file.endswith('.JPG') or file.endswith('.png')]"
   ]
  },
  {
   "cell_type": "code",
   "execution_count": 103,
   "id": "44db2450",
   "metadata": {},
   "outputs": [],
   "source": [
    "def image_to_array(folder_path):\n",
    "    files = os.listdir(folder_path)\n",
    "    images = [file for file in files if file.endswith('.JPG') or file.endswith('.png')]\n",
    "    image_list = [] \n",
    "    for image in images:\n",
    "        img = cv2.imread(os.path.join(folder_path, image))\n",
    "        image_list.append(img)\n",
    "    return image_list"
   ]
  },
  {
   "cell_type": "code",
   "execution_count": 104,
   "id": "f2ef0803",
   "metadata": {},
   "outputs": [],
   "source": [
    "#Mushmom image\n",
    "mushmom_path = \"C:/Users/liang/OneDrive/Desktop/Maplestory-Classifier/Mushmom_Classification\"\n",
    "mushmom_images = image_to_array(mushmom_path)"
   ]
  },
  {
   "cell_type": "code",
   "execution_count": 105,
   "id": "10aa3382",
   "metadata": {},
   "outputs": [],
   "source": [
    "#Horny_Mushroom \n",
    "horny_mushroom_path = \"C:/Users/liang/OneDrive/Desktop/Maplestory-Classifier/Horny_Mushroom_Classification\"\n",
    "horny_mushroom_images = image_to_array(horny_mushroom_path)"
   ]
  },
  {
   "cell_type": "code",
   "execution_count": 106,
   "id": "ad3a93d9",
   "metadata": {},
   "outputs": [],
   "source": [
    "#Poisonous_mushroom\n",
    "poisonous_mushroom_path = \"C:/Users/liang/OneDrive/Desktop/Maplestory-Classifier/Poisonous_Mushroom_Classification\"\n",
    "poisonous_mushroom_images = image_to_array(poisonous_mushroom_path)"
   ]
  },
  {
   "cell_type": "code",
   "execution_count": 107,
   "id": "c56d6d6e",
   "metadata": {},
   "outputs": [],
   "source": [
    "#Zombie_mushmom\n",
    "zombie_mushmom_path = \"C:/Users/liang/OneDrive/Desktop/Maplestory-Classifier/Zombie_Mushmom_Classification\"\n",
    "zombie_mushmom_images = image_to_array(zombie_mushmom_path)"
   ]
  },
  {
   "cell_type": "code",
   "execution_count": 108,
   "id": "2011e24d",
   "metadata": {},
   "outputs": [],
   "source": [
    "#Blue_Mushmom\n",
    "blue_mushmom_path = \"C:/Users/liang/OneDrive/Desktop/Maplestory-Classifier/Blue_Mushmom_Classification\"\n",
    "blue_mushmom_images = image_to_array(blue_mushmom_path)"
   ]
  },
  {
   "cell_type": "code",
   "execution_count": 109,
   "id": "91439314",
   "metadata": {},
   "outputs": [],
   "source": [
    "#Green Mushroom\n",
    "green_mushmom_path = \"C:/Users/liang/OneDrive/Desktop/Maplestory-Classifier/Green_Mushroom_Classification\"\n",
    "green_mushmom_images = image_to_array(green_mushmom_path)"
   ]
  },
  {
   "cell_type": "code",
   "execution_count": 110,
   "id": "1127033b",
   "metadata": {
    "scrolled": true
   },
   "outputs": [],
   "source": [
    "mushmom_df = pd.DataFrame({'array_val' : mushmom_images , \"actual labels\" : ['mushmom'] * len(mushmom_images) })"
   ]
  },
  {
   "cell_type": "code",
   "execution_count": 111,
   "id": "5aeb2437",
   "metadata": {},
   "outputs": [],
   "source": [
    "horny_mushroom_df = pd.DataFrame({'array_val' : horny_mushroom_images , \"actual_labels\" : ['horny_mushroom'] * len(horny_mushroom_images) })"
   ]
  },
  {
   "cell_type": "code",
   "execution_count": 112,
   "id": "1b1e2995",
   "metadata": {},
   "outputs": [],
   "source": [
    "poisonous_mushroom_df = pd.DataFrame({'array_val' : poisonous_mushroom_images , \"actual_labels\" : ['poisonous_mushroom'] * len(poisonous_mushroom_images) })"
   ]
  },
  {
   "cell_type": "code",
   "execution_count": 113,
   "id": "c02cb0c6",
   "metadata": {},
   "outputs": [],
   "source": [
    "zombie_mushmom_df = pd.DataFrame({'array_val' : zombie_mushmom_images, 'actual_labels' : ['zombie_mushmom'] * len(zombie_mushmom_images)})"
   ]
  },
  {
   "cell_type": "code",
   "execution_count": 114,
   "id": "6658bd45",
   "metadata": {},
   "outputs": [],
   "source": [
    "blue_mushmom_df = pd.DataFrame({'array_val' : blue_mushmom_images, 'actual_labels' : ['blue_mushmom'] * len(blue_mushmom_images)})"
   ]
  },
  {
   "cell_type": "code",
   "execution_count": 115,
   "id": "361164fe",
   "metadata": {},
   "outputs": [],
   "source": [
    "green_mushmom_df = pd.DataFrame({'array_val' : green_mushmom_images, 'actual_labels' : ['green_mushmom'] * len(green_mushmom_images)})"
   ]
  },
  {
   "cell_type": "code",
   "execution_count": 116,
   "id": "6aaad7fe",
   "metadata": {},
   "outputs": [],
   "source": [
    "data = pd.concat([mushmom_df,horny_mushroom_df,poisonous_mushroom_df,zombie_mushmom_df,blue_mushmom_df,green_mushmom_df],axis = 0 )"
   ]
  },
  {
   "cell_type": "code",
   "execution_count": 117,
   "id": "6e5dd23c",
   "metadata": {},
   "outputs": [
    {
     "data": {
      "text/plain": [
       "zombie_mushmom        17\n",
       "blue_mushmom          16\n",
       "green_mushmom         11\n",
       "horny_mushroom        10\n",
       "poisonous_mushroom     6\n",
       "Name: actual_labels, dtype: int64"
      ]
     },
     "execution_count": 117,
     "metadata": {},
     "output_type": "execute_result"
    }
   ],
   "source": [
    "data['actual_labels'].value_counts()"
   ]
  },
  {
   "cell_type": "code",
   "execution_count": 122,
   "id": "22f8ff66",
   "metadata": {},
   "outputs": [
    {
     "data": {
      "text/plain": [
       "-0.16160711132904373"
      ]
     },
     "execution_count": 122,
     "metadata": {},
     "output_type": "execute_result"
    }
   ],
   "source": [
    "data['actual_labels'].value_counts().skew()"
   ]
  },
  {
   "cell_type": "code",
   "execution_count": 129,
   "id": "af3e654f",
   "metadata": {},
   "outputs": [],
   "source": [
    "img = data['array_val']"
   ]
  },
  {
   "cell_type": "code",
   "execution_count": 150,
   "id": "4dce6ae0",
   "metadata": {},
   "outputs": [
    {
     "data": {
      "text/html": [
       "<div>\n",
       "<style scoped>\n",
       "    .dataframe tbody tr th:only-of-type {\n",
       "        vertical-align: middle;\n",
       "    }\n",
       "\n",
       "    .dataframe tbody tr th {\n",
       "        vertical-align: top;\n",
       "    }\n",
       "\n",
       "    .dataframe thead th {\n",
       "        text-align: right;\n",
       "    }\n",
       "</style>\n",
       "<table border=\"1\" class=\"dataframe\">\n",
       "  <thead>\n",
       "    <tr style=\"text-align: right;\">\n",
       "      <th></th>\n",
       "      <th>array_val</th>\n",
       "    </tr>\n",
       "  </thead>\n",
       "  <tbody>\n",
       "    <tr>\n",
       "      <th>0</th>\n",
       "      <td>[[[249, 255, 254], [249, 255, 254], [249, 255,...</td>\n",
       "    </tr>\n",
       "    <tr>\n",
       "      <th>0</th>\n",
       "      <td>[[[255, 255, 255], [255, 255, 255], [255, 255,...</td>\n",
       "    </tr>\n",
       "    <tr>\n",
       "      <th>0</th>\n",
       "      <td>[[[213, 159, 99], [213, 159, 99], [212, 158, 9...</td>\n",
       "    </tr>\n",
       "    <tr>\n",
       "      <th>0</th>\n",
       "      <td>[[[253, 253, 253], [255, 255, 255], [255, 255,...</td>\n",
       "    </tr>\n",
       "    <tr>\n",
       "      <th>0</th>\n",
       "      <td>[[[0, 0, 0], [0, 0, 0], [0, 0, 0], [0, 0, 0], ...</td>\n",
       "    </tr>\n",
       "    <tr>\n",
       "      <th>0</th>\n",
       "      <td>[[[255, 253, 253], [255, 254, 254], [255, 255,...</td>\n",
       "    </tr>\n",
       "  </tbody>\n",
       "</table>\n",
       "</div>"
      ],
      "text/plain": [
       "                                           array_val\n",
       "0  [[[249, 255, 254], [249, 255, 254], [249, 255,...\n",
       "0  [[[255, 255, 255], [255, 255, 255], [255, 255,...\n",
       "0  [[[213, 159, 99], [213, 159, 99], [212, 158, 9...\n",
       "0  [[[253, 253, 253], [255, 255, 255], [255, 255,...\n",
       "0  [[[0, 0, 0], [0, 0, 0], [0, 0, 0], [0, 0, 0], ...\n",
       "0  [[[255, 253, 253], [255, 254, 254], [255, 255,..."
      ]
     },
     "execution_count": 150,
     "metadata": {},
     "output_type": "execute_result"
    }
   ],
   "source": [
    "data.loc[0,['array_val']] "
   ]
  },
  {
   "cell_type": "code",
   "execution_count": 126,
   "id": "e8f0cb93",
   "metadata": {},
   "outputs": [
    {
     "ename": "error",
     "evalue": "OpenCV(4.6.0) :-1: error: (-5:Bad argument) in function 'cvtColor'\n> Overload resolution failed:\n>  - src is not a numpy array, neither a scalar\n>  - Expected Ptr<cv::UMat> for argument 'src'\n",
     "output_type": "error",
     "traceback": [
      "\u001b[1;31m---------------------------------------------------------------------------\u001b[0m",
      "\u001b[1;31merror\u001b[0m                                     Traceback (most recent call last)",
      "Cell \u001b[1;32mIn[126], line 2\u001b[0m\n\u001b[0;32m      1\u001b[0m \u001b[38;5;28;01mimport\u001b[39;00m \u001b[38;5;21;01mmatplotlib\u001b[39;00m\u001b[38;5;21;01m.\u001b[39;00m\u001b[38;5;21;01mpyplot\u001b[39;00m \u001b[38;5;28;01mas\u001b[39;00m \u001b[38;5;21;01mplt\u001b[39;00m \n\u001b[1;32m----> 2\u001b[0m plt\u001b[38;5;241m.\u001b[39mimshow(\u001b[43mcv2\u001b[49m\u001b[38;5;241;43m.\u001b[39;49m\u001b[43mcvtColor\u001b[49m\u001b[43m(\u001b[49m\u001b[43mimg\u001b[49m\u001b[43m[\u001b[49m\u001b[38;5;241;43m0\u001b[39;49m\u001b[43m]\u001b[49m\u001b[43m,\u001b[49m\u001b[43m \u001b[49m\u001b[43mcv2\u001b[49m\u001b[38;5;241;43m.\u001b[39;49m\u001b[43mCOLOR_BGR2RGB\u001b[49m\u001b[43m)\u001b[49m)\n\u001b[0;32m      3\u001b[0m plt\u001b[38;5;241m.\u001b[39mshow()\n",
      "\u001b[1;31merror\u001b[0m: OpenCV(4.6.0) :-1: error: (-5:Bad argument) in function 'cvtColor'\n> Overload resolution failed:\n>  - src is not a numpy array, neither a scalar\n>  - Expected Ptr<cv::UMat> for argument 'src'\n"
     ]
    }
   ],
   "source": [
    "#import matplotlib.pyplot as plt \n",
    "#plt.imshow(cv2.cvtColor(img[0], cv2.COLOR_BGR2RGB))\n",
    "#plt.show()"
   ]
  },
  {
   "cell_type": "code",
   "execution_count": null,
   "id": "9131604b",
   "metadata": {},
   "outputs": [],
   "source": []
  },
  {
   "cell_type": "code",
   "execution_count": null,
   "id": "71cf1f3c",
   "metadata": {},
   "outputs": [],
   "source": []
  },
  {
   "cell_type": "code",
   "execution_count": null,
   "id": "d7251d9c",
   "metadata": {},
   "outputs": [],
   "source": []
  },
  {
   "cell_type": "code",
   "execution_count": null,
   "id": "bd481cbc",
   "metadata": {},
   "outputs": [],
   "source": []
  },
  {
   "cell_type": "code",
   "execution_count": null,
   "id": "0c61cbc0",
   "metadata": {},
   "outputs": [],
   "source": []
  },
  {
   "cell_type": "code",
   "execution_count": null,
   "id": "556c8e20",
   "metadata": {},
   "outputs": [],
   "source": []
  },
  {
   "cell_type": "code",
   "execution_count": null,
   "id": "fc42e209",
   "metadata": {},
   "outputs": [],
   "source": []
  },
  {
   "cell_type": "code",
   "execution_count": null,
   "id": "15dd2d96",
   "metadata": {},
   "outputs": [],
   "source": []
  },
  {
   "cell_type": "code",
   "execution_count": null,
   "id": "5ce1b293",
   "metadata": {},
   "outputs": [],
   "source": []
  },
  {
   "cell_type": "code",
   "execution_count": null,
   "id": "d7158696",
   "metadata": {},
   "outputs": [],
   "source": []
  },
  {
   "cell_type": "code",
   "execution_count": null,
   "id": "9f9f10cc",
   "metadata": {},
   "outputs": [],
   "source": []
  },
  {
   "cell_type": "code",
   "execution_count": null,
   "id": "bdf10160",
   "metadata": {},
   "outputs": [],
   "source": []
  },
  {
   "cell_type": "code",
   "execution_count": null,
   "id": "e28f6f1a",
   "metadata": {},
   "outputs": [],
   "source": []
  },
  {
   "cell_type": "code",
   "execution_count": null,
   "id": "536ca503",
   "metadata": {},
   "outputs": [],
   "source": []
  },
  {
   "cell_type": "code",
   "execution_count": null,
   "id": "12a83998",
   "metadata": {},
   "outputs": [],
   "source": []
  },
  {
   "cell_type": "code",
   "execution_count": null,
   "id": "20d25514",
   "metadata": {},
   "outputs": [],
   "source": []
  },
  {
   "cell_type": "code",
   "execution_count": null,
   "id": "a3fb2923",
   "metadata": {},
   "outputs": [],
   "source": []
  },
  {
   "cell_type": "code",
   "execution_count": null,
   "id": "bdc144ae",
   "metadata": {},
   "outputs": [],
   "source": []
  },
  {
   "cell_type": "code",
   "execution_count": null,
   "id": "0de545f5",
   "metadata": {},
   "outputs": [],
   "source": []
  },
  {
   "cell_type": "code",
   "execution_count": null,
   "id": "e61de4b4",
   "metadata": {},
   "outputs": [],
   "source": []
  },
  {
   "cell_type": "code",
   "execution_count": null,
   "id": "d7732e89",
   "metadata": {},
   "outputs": [],
   "source": []
  },
  {
   "cell_type": "code",
   "execution_count": null,
   "id": "59c24f3c",
   "metadata": {},
   "outputs": [],
   "source": []
  },
  {
   "cell_type": "code",
   "execution_count": null,
   "id": "42293cd9",
   "metadata": {},
   "outputs": [],
   "source": []
  },
  {
   "cell_type": "code",
   "execution_count": null,
   "id": "7328e415",
   "metadata": {},
   "outputs": [],
   "source": []
  },
  {
   "cell_type": "code",
   "execution_count": null,
   "id": "5d995746",
   "metadata": {},
   "outputs": [],
   "source": []
  },
  {
   "cell_type": "code",
   "execution_count": null,
   "id": "01f7dc9a",
   "metadata": {},
   "outputs": [],
   "source": []
  },
  {
   "cell_type": "code",
   "execution_count": null,
   "id": "6c9967da",
   "metadata": {},
   "outputs": [],
   "source": []
  },
  {
   "cell_type": "code",
   "execution_count": null,
   "id": "a1ea6946",
   "metadata": {},
   "outputs": [],
   "source": []
  }
 ],
 "metadata": {
  "kernelspec": {
   "display_name": "Python 3 (ipykernel)",
   "language": "python",
   "name": "python3"
  },
  "language_info": {
   "codemirror_mode": {
    "name": "ipython",
    "version": 3
   },
   "file_extension": ".py",
   "mimetype": "text/x-python",
   "name": "python",
   "nbconvert_exporter": "python",
   "pygments_lexer": "ipython3",
   "version": "3.10.9"
  }
 },
 "nbformat": 4,
 "nbformat_minor": 5
}
